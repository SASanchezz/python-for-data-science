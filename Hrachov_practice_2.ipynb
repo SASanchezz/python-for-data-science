{
  "nbformat": 4,
  "nbformat_minor": 0,
  "metadata": {
    "colab": {
      "provenance": [],
      "include_colab_link": true
    },
    "kernelspec": {
      "name": "python3",
      "display_name": "Python 3"
    },
    "language_info": {
      "name": "python"
    }
  },
  "cells": [
    {
      "cell_type": "markdown",
      "metadata": {
        "id": "view-in-github",
        "colab_type": "text"
      },
      "source": [
        "<a href=\"https://colab.research.google.com/github/SASanchezz/python-for-data-science/blob/main/python_practice_2.ipynb\" target=\"_parent\"><img src=\"https://colab.research.google.com/assets/colab-badge.svg\" alt=\"Open In Colab\"/></a>"
      ]
    },
    {
      "cell_type": "markdown",
      "source": [
        "# I. Змінні та памʼять."
      ],
      "metadata": {
        "id": "p9wwt0LZzNvn"
      }
    },
    {
      "cell_type": "markdown",
      "source": [
        "1. Створити змінні, що посилаються на два цілих числа, що однакові за значенням, де значення належить проміжку від -5 до 256. Перевірте, чи будуть ці змінні рівні тільки за значенням або ж ще будуть посилатися на один і той самий обʼєкт в памʼяті? Наведіть код та дайте текстову відповідь нижче."
      ],
      "metadata": {
        "id": "HTJrrm95xSV9"
      }
    },
    {
      "cell_type": "code",
      "execution_count": null,
      "metadata": {
        "id": "TATni2vzayjG",
        "colab": {
          "base_uri": "https://localhost:8080/"
        },
        "outputId": "301958a4-a019-4a68-e939-65d410b91743"
      },
      "outputs": [
        {
          "output_type": "stream",
          "name": "stdout",
          "text": [
            "Рівні за значенням: True\n",
            "Рівні за посиланням: True\n"
          ]
        }
      ],
      "source": [
        "num1 = 42\n",
        "num2 = 42\n",
        "\n",
        "value_equal = num1 == num2\n",
        "reference_equal = num1 is num2\n",
        "\n",
        "print(f\"Рівні за значенням: {value_equal}\")\n",
        "print(f\"Рівні за посиланням: {reference_equal}\")"
      ]
    },
    {
      "cell_type": "markdown",
      "source": [
        "Ми використовуємо = для перевірки за значенням і is для перевірки на посилання на один і той самий участок пам'яті"
      ],
      "metadata": {
        "id": "zfRG_o3WbRdg"
      }
    },
    {
      "cell_type": "markdown",
      "source": [
        "2. За допомогою якої функції можна перевірити належність змінної до вказаного типу даних (напр. чи змінна True посилається на значення булевого та цілочисленого типу)?"
      ],
      "metadata": {
        "id": "ISORzt6M3vAt"
      }
    },
    {
      "cell_type": "code",
      "source": [
        "example_var1 = True\n",
        "\n",
        "is_bool = isinstance(example_var1, bool)\n",
        "is_int = isinstance(example_var1, int)\n",
        "is_string = isinstance(example_var1, str)\n",
        "\n",
        "print(f\"Змінна example_var1 є булевою: {is_bool}\")\n",
        "print(f\"Змінна example_var1 є цілим числом: {is_int}\")\n",
        "print(f\"Змінна example_var1 є рядком: {is_string}\")"
      ],
      "metadata": {
        "id": "9vL9CFaMbfyo",
        "colab": {
          "base_uri": "https://localhost:8080/"
        },
        "outputId": "4d87bfdf-8d76-44e1-ffa8-f602824ed5db"
      },
      "execution_count": null,
      "outputs": [
        {
          "output_type": "stream",
          "name": "stdout",
          "text": [
            "Змінна example_var1 є булевою: True\n",
            "Змінна example_var1 є цілим числом: True\n",
            "Змінна example_var1 є рядком: False\n"
          ]
        }
      ]
    },
    {
      "cell_type": "markdown",
      "source": [
        "# II. Цілі числа та числа з рухомою комою"
      ],
      "metadata": {
        "id": "tRxugKAxwYLw"
      }
    },
    {
      "cell_type": "markdown",
      "source": [
        "3. Створити дві змінні, що посилаються на будь-які ціле число та число з рухомою комою та продемонструвати такі арифметичні операції: додавання, віднімання, ділення, множення, ділення без залишку, ділення по модулю, приведення до ступеню. Всі результати операцій вивести на екран."
      ],
      "metadata": {
        "id": "NLHkgd5Gybc8"
      }
    },
    {
      "cell_type": "code",
      "source": [
        "integer_num = 10\n",
        "float_num = 3.5\n",
        "\n",
        "addition = integer_num + float_num\n",
        "subtraction = integer_num - float_num\n",
        "division = integer_num / float_num\n",
        "multiplication = integer_num * float_num\n",
        "floor_division = integer_num // float_num\n",
        "modulo = integer_num % float_num\n",
        "exponentiation = integer_num ** float_num\n",
        "\n",
        "print(f\"Додавання: {addition}\")\n",
        "print(f\"Віднімання: {subtraction}\")\n",
        "print(f\"Ділення: {division}\")\n",
        "print(f\"Множення: {multiplication}\")\n",
        "print(f\"Ділення без залишку: {floor_division}\")\n",
        "print(f\"Ділення по модулю: {modulo}\")\n",
        "print(f\"Приведення до ступеню: {exponentiation}\")\n"
      ],
      "metadata": {
        "id": "nb8u_3pjb2cA",
        "colab": {
          "base_uri": "https://localhost:8080/"
        },
        "outputId": "32d241ad-d2fc-4fae-809b-c946f177060a"
      },
      "execution_count": null,
      "outputs": [
        {
          "output_type": "stream",
          "name": "stdout",
          "text": [
            "Додавання: 13.5\n",
            "Віднімання: 6.5\n",
            "Ділення: 2.857142857142857\n",
            "Множення: 35.0\n",
            "Ділення без залишку: 2.0\n",
            "Ділення по модулю: 3.0\n",
            "Приведення до ступеню: 3162.2776601683795\n"
          ]
        }
      ]
    },
    {
      "cell_type": "markdown",
      "source": [
        "4. Використовуючи змінні з вправи 3, продемонструйте механізм явного перетворення типів, де числа з рухомою комою перетворюються на цілі числа. Також визначте змінну, що посилається на значення булевого типу і спробуйте явно привести її до цілого числа."
      ],
      "metadata": {
        "id": "1kBClKgPzZnC"
      }
    },
    {
      "cell_type": "code",
      "source": [
        "integer_num = 10\n",
        "float_num = 3.5\n",
        "bool_var = True\n",
        "\n",
        "converted_integer = int(float_num)\n",
        "converted_bool = int(bool_var)\n",
        "\n",
        "print(f\"Перетворення числа з рухомою комою на ціле число: {converted_integer}\")\n",
        "print(f\"Явне перетворення булевого значення на ціле число: {converted_bool}\")"
      ],
      "metadata": {
        "id": "TbqJbkeUcKsD",
        "colab": {
          "base_uri": "https://localhost:8080/"
        },
        "outputId": "376345ec-1913-440c-9236-4f4fab114f29"
      },
      "execution_count": null,
      "outputs": [
        {
          "output_type": "stream",
          "name": "stdout",
          "text": [
            "Перетворення числа з рухомою комою на ціле число: 3\n",
            "Явне перетворення булевого значення на ціле число: 1\n"
          ]
        }
      ]
    },
    {
      "cell_type": "markdown",
      "source": [
        "# IІІ. Рядки (String)."
      ],
      "metadata": {
        "id": "EVJ7AflwxrZi"
      }
    },
    {
      "cell_type": "markdown",
      "source": [
        "5. Створити пустий рядок двома різними способами."
      ],
      "metadata": {
        "id": "_s5ECzz9zE61"
      }
    },
    {
      "cell_type": "code",
      "source": [
        "empty_string1 = '' # or \"\"\n",
        "empty_string2 = str()\n",
        "\n",
        "print(f\"Пустий рядок1: {empty_string1}\")\n",
        "print(f\"Пустий рядок2: {empty_string2}\")"
      ],
      "metadata": {
        "id": "fkZJHu9Scvc-",
        "colab": {
          "base_uri": "https://localhost:8080/"
        },
        "outputId": "ed0f20e5-9ee0-4caa-d47a-6fa70b6c15c0"
      },
      "execution_count": null,
      "outputs": [
        {
          "output_type": "stream",
          "name": "stdout",
          "text": [
            "Пустий рядок1: \n",
            "Пустий рядок2: \n"
          ]
        }
      ]
    },
    {
      "cell_type": "markdown",
      "source": [
        "6. Створити рядок з апострофом. Зробити його сирим. Вивести обидва рядка на екран."
      ],
      "metadata": {
        "id": "4Bdn9J3MzLf_"
      }
    },
    {
      "cell_type": "code",
      "source": [
        "string_with_apostrophe1 = \"I'm learning Python.\"\n",
        "string_with_apostrophe2 = 'I\\'m learning Python.'\n",
        "raw_string_with_apostrophe = r'I\\'m learning Python.'\n",
        "\n",
        "print(f\"Рядок з апострофом: {string_with_apostrophe1}\")\n",
        "print(f\"Сирий рядок з апострофом: {raw_string_with_apostrophe}\")\n"
      ],
      "metadata": {
        "id": "ivji_hsmc0GH",
        "colab": {
          "base_uri": "https://localhost:8080/"
        },
        "outputId": "2dafcc17-163f-48e3-9856-dd3a98e49400"
      },
      "execution_count": null,
      "outputs": [
        {
          "output_type": "stream",
          "name": "stdout",
          "text": [
            "Рядок з апострофом: I'm learning Python.\n",
            "Сирий рядок з апострофом: I\\'m learning Python.\n"
          ]
        }
      ]
    },
    {
      "cell_type": "markdown",
      "source": [
        "7. Створити змінну, що буде посилатися на Ваше прізвище латинкою. Створити форматований рядок, який буде мати вигляд \"My surname is ______\", де на місці нижніх підкреслень буде Ваше прізвище зі змінної."
      ],
      "metadata": {
        "id": "bg_d8wM4z8dS"
      }
    },
    {
      "cell_type": "code",
      "source": [
        "my_surname = \"Hrachov\"\n",
        "\n",
        "formatted_string = f\"My surname is {my_surname}.\"\n",
        "\n",
        "print(formatted_string)"
      ],
      "metadata": {
        "id": "kuxFgpWndACq",
        "colab": {
          "base_uri": "https://localhost:8080/"
        },
        "outputId": "e8a78b24-9994-4108-cc1f-1f0cbff62f82"
      },
      "execution_count": null,
      "outputs": [
        {
          "output_type": "stream",
          "name": "stdout",
          "text": [
            "My surname is Hrachov.\n"
          ]
        }
      ]
    },
    {
      "cell_type": "markdown",
      "source": [
        "8. Маючи рядок \"My dog is crazy.\" перетворити його на список [\"my\", \"dog\", \"is\", \"crazy\"]"
      ],
      "metadata": {
        "id": "1Nc6RqvQ0hxU"
      }
    },
    {
      "cell_type": "code",
      "source": [
        "original_string = \"My dog is crazy.\"\n",
        "\n",
        "string_list = original_string.lower().split()\n",
        "\n",
        "print(string_list)"
      ],
      "metadata": {
        "id": "w1Ya4RqedUhw",
        "colab": {
          "base_uri": "https://localhost:8080/"
        },
        "outputId": "ac845e9f-866a-4e98-e61a-3423d4e46054"
      },
      "execution_count": null,
      "outputs": [
        {
          "output_type": "stream",
          "name": "stdout",
          "text": [
            "['my', 'dog', 'is', 'crazy.']\n"
          ]
        }
      ]
    },
    {
      "cell_type": "markdown",
      "source": [
        "# IV. Робота зі списками."
      ],
      "metadata": {
        "id": "GYVqN9uP1D4n"
      }
    },
    {
      "cell_type": "markdown",
      "source": [
        "9. Створити список двома різними за синтаксисом способами. За допомогою вбудованої функції обчисліть довжину одного з них."
      ],
      "metadata": {
        "id": "7-DeDunw2sO-"
      }
    },
    {
      "cell_type": "code",
      "source": [
        "list1 = [1, 2, 3, 4, 5]\n",
        "\n",
        "list2 = list(range(1, 6))\n",
        "\n",
        "length_of_list = len(list1)\n",
        "\n",
        "# Вивід результатів\n",
        "print(f\"Список 1: {list1}\")\n",
        "print(f\"Список 2: {list2}\")\n",
        "print(f\"Довжина списку 1: {length_of_list}\")\n"
      ],
      "metadata": {
        "id": "zxg06Uuxdyoh",
        "colab": {
          "base_uri": "https://localhost:8080/"
        },
        "outputId": "33e17c5f-58bf-4ba9-fbca-802b67a97200"
      },
      "execution_count": null,
      "outputs": [
        {
          "output_type": "stream",
          "name": "stdout",
          "text": [
            "Список 1: [1, 2, 3, 4, 5]\n",
            "Список 2: [1, 2, 3, 4, 5]\n",
            "Довжина списку 1: 5\n"
          ]
        }
      ]
    },
    {
      "cell_type": "markdown",
      "source": [
        "10. Створіть два списка та за допомогою спеціального методу додайте другий з них в якості останнього елемента першого."
      ],
      "metadata": {
        "id": "8vmGUTjL22gI"
      }
    },
    {
      "cell_type": "code",
      "source": [
        "list1 = [1, 2, 3]\n",
        "list2 = [4, 5, 6]\n",
        "\n",
        "list1.append(list2)\n",
        "\n",
        "print(f\"Список 1 з доданим списком 2: {list1}\")"
      ],
      "metadata": {
        "id": "uHtjWYw7d7hm",
        "colab": {
          "base_uri": "https://localhost:8080/"
        },
        "outputId": "a5c37300-97a7-43e2-e746-f7043bb88f7e"
      },
      "execution_count": null,
      "outputs": [
        {
          "output_type": "stream",
          "name": "stdout",
          "text": [
            "Список 1 з доданим списком 2: [1, 2, 3, [4, 5, 6]]\n"
          ]
        }
      ]
    },
    {
      "cell_type": "markdown",
      "source": [
        "11. Створіть список, де елементами цього списку також є списки. Отримай перший елемент з останнього рядка та виведи значення на екран."
      ],
      "metadata": {
        "id": "JC3BkD-67_--"
      }
    },
    {
      "cell_type": "code",
      "source": [
        "nested_list = [\n",
        "    [1, 2, 3],\n",
        "    [4, 5, 6],\n",
        "    [7, 8, 9]\n",
        "]\n",
        "\n",
        "first_element_last_row = nested_list[-1][0]\n",
        "\n",
        "print(f\"Перший елемент з останнього рядка: {first_element_last_row}\")"
      ],
      "metadata": {
        "id": "Kz2jZHsGeLlz",
        "colab": {
          "base_uri": "https://localhost:8080/"
        },
        "outputId": "168b5dbc-5484-4082-9db6-36f3353b3fd8"
      },
      "execution_count": null,
      "outputs": [
        {
          "output_type": "stream",
          "name": "stdout",
          "text": [
            "Перший елемент з останнього рядка: 7\n"
          ]
        }
      ]
    },
    {
      "cell_type": "markdown",
      "source": [
        "12. Створіть список з десяти елементів різного типу. Отримайте всі елементи, окрім двох перших та двох останніх та збережіть їх в новій змінній."
      ],
      "metadata": {
        "id": "JA47PKTv8zFK"
      }
    },
    {
      "cell_type": "code",
      "source": [
        "original_list = [1, 'apple', 3.14, True, [5, 6], 'banana', 7, (8, 9), 'orange', \"text\"]\n",
        "\n",
        "new_list = original_list[2:-2]\n",
        "\n",
        "print(new_list)"
      ],
      "metadata": {
        "id": "_rHdUR-ueP4-",
        "colab": {
          "base_uri": "https://localhost:8080/"
        },
        "outputId": "2755c221-f739-4d03-e2f9-829f81a25aba"
      },
      "execution_count": null,
      "outputs": [
        {
          "output_type": "stream",
          "name": "stdout",
          "text": [
            "[3.14, True, [5, 6], 'banana', 7, (8, 9)]\n"
          ]
        }
      ]
    },
    {
      "cell_type": "markdown",
      "source": [
        "# V. Робота з кортежами."
      ],
      "metadata": {
        "id": "pCjR1dJb1Qbi"
      }
    },
    {
      "cell_type": "markdown",
      "source": [
        "14. Створити кортеж з один елементом."
      ],
      "metadata": {
        "id": "fAZCxAX06R_k"
      }
    },
    {
      "cell_type": "code",
      "source": [
        "my_tuple = (13)"
      ],
      "metadata": {
        "id": "H7d82WkQev3e"
      },
      "execution_count": null,
      "outputs": []
    },
    {
      "cell_type": "markdown",
      "source": [
        "15. Порівняйте список та кортеж. Назвіть схожості та відмінності, випадки використання."
      ],
      "metadata": {
        "id": "8LCtYcmI6w1M"
      }
    },
    {
      "cell_type": "markdown",
      "source": [
        "Список і кортеж подібні в тому, що обидва можуть містити різні типи даних та підтримують індексацію та зрізи. Відмінність полягає в тому, що список можна змінювати (додавати та видаляти елементи), а кортеж є незмінюваним. Список створюється за допомогою квадратних дужок, кортеж - за допомогою круглих. Список використовується для динамічних змін у структурі даних, тоді як кортеж - для незмінюваних структур, де важливо уникнути непередбачуваних змін."
      ],
      "metadata": {
        "id": "fUsN1Hnue0C6"
      }
    },
    {
      "cell_type": "markdown",
      "source": [
        "16. Створіть кортеж з 11ти елементів чисел з рухомою комою та отримайте кожен парний за індексом елемент в зворотньому порядку. Наприклад, маючи (1.2, 2.3, 3.3, 4.3, 5.3, 6.3, 7.3, 8.3, 9.3, 0.3), отримати (0.3, 8.3, 6.3, 4.3, 2.3). Результат збережіть в нову змінну та виведіть на екран."
      ],
      "metadata": {
        "id": "m0xrwFijAmDD"
      }
    },
    {
      "cell_type": "code",
      "source": [
        "original_tuple = (1.2, 2.3, 3.3, 4.3, 5.3, 6.3, 7.3, 8.3, 9.3, 0.3, 11.3)\n",
        "\n",
        "result_tuple = original_tuple[::-2]\n",
        "\n",
        "print(result_tuple)"
      ],
      "metadata": {
        "id": "p-5DAH6XfAGA",
        "colab": {
          "base_uri": "https://localhost:8080/"
        },
        "outputId": "309e013d-e845-4020-b3af-943f4c07537c"
      },
      "execution_count": null,
      "outputs": [
        {
          "output_type": "stream",
          "name": "stdout",
          "text": [
            "(11.3, 9.3, 7.3, 5.3, 3.3, 1.2)\n"
          ]
        }
      ]
    },
    {
      "cell_type": "markdown",
      "source": [
        "# VI. Множини (Set)."
      ],
      "metadata": {
        "id": "rW_I9dt3x6cW"
      }
    },
    {
      "cell_type": "markdown",
      "source": [
        "17. Створити множину без елементів. Після цого за допомогою методу додайте кілька різних елементів до множини. Чи множини є змінним типом даних?"
      ],
      "metadata": {
        "id": "zNjRLHLw1Bgg"
      }
    },
    {
      "cell_type": "code",
      "source": [
        "empty_set = set()\n",
        "\n",
        "empty_set.add(42)\n",
        "empty_set.add(\"apple\")\n",
        "empty_set.add(True)\n",
        "\n",
        "print(empty_set)"
      ],
      "metadata": {
        "id": "KOv7zc2Kfo4N",
        "colab": {
          "base_uri": "https://localhost:8080/"
        },
        "outputId": "95758cdb-4e06-4634-8a8c-4c9d921de78a"
      },
      "execution_count": null,
      "outputs": [
        {
          "output_type": "stream",
          "name": "stdout",
          "text": [
            "{True, 42, 'apple'}\n"
          ]
        }
      ]
    },
    {
      "cell_type": "markdown",
      "source": [
        "так, є змінюваним"
      ],
      "metadata": {
        "id": "vxS6dVYiftZQ"
      }
    },
    {
      "cell_type": "markdown",
      "source": [
        "18. Створити множину, маючи список my_list = [1, 1, 2, 67, 67, 8, 9]. Пояснити, чому \"зникли\" деякі елементи."
      ],
      "metadata": {
        "id": "gHpT0Zw_1HEF"
      }
    },
    {
      "cell_type": "code",
      "source": [
        "my_list = [1, 1, 2, 67, 67, 8, 9]\n",
        "unique_set = set(my_list)\n",
        "\n",
        "print(unique_set)"
      ],
      "metadata": {
        "id": "qCN4uvJ_fxmu"
      },
      "execution_count": null,
      "outputs": []
    },
    {
      "cell_type": "markdown",
      "source": [
        "Множина унікальних елементів видаляє дублікати. Кожен елемент в множині повинен бути унікальним, тому під час перетворення списку в множину дублікати втрачаються"
      ],
      "metadata": {
        "id": "tFNc1e20fyny"
      }
    },
    {
      "cell_type": "markdown",
      "source": [
        "19. Створіть дві множини. Продемонстуйте над ними операції: обʼєднання, різниці, пересічі та симетричної різниці. Використовуйте методи, що не змінюють множини, а створюють нові."
      ],
      "metadata": {
        "id": "SRMkGizS1UwY"
      }
    },
    {
      "cell_type": "code",
      "source": [
        "set1 = {1, 2, 3, 4, 5}\n",
        "set2 = {4, 5, 6, 7, 8}\n",
        "\n",
        "union_set = set1.union(set2)\n",
        "\n",
        "difference_set = set1.difference(set2)\n",
        "\n",
        "intersection_set = set1.intersection(set2)\n",
        "\n",
        "symmetric_difference_set = set1.symmetric_difference(set2)\n",
        "\n",
        "print(f\"Об'єднання: {union_set}\")\n",
        "print(f\"Різниця: {difference_set}\")\n",
        "print(f\"Перетин: {intersection_set}\")\n",
        "print(f\"Симетрична різниця: {symmetric_difference_set}\")\n"
      ],
      "metadata": {
        "id": "h0T-VuDnf3Ri",
        "colab": {
          "base_uri": "https://localhost:8080/"
        },
        "outputId": "6c1db141-586b-400a-94cf-50f2913e00c5"
      },
      "execution_count": null,
      "outputs": [
        {
          "output_type": "stream",
          "name": "stdout",
          "text": [
            "Об'єднання: {1, 2, 3, 4, 5, 6, 7, 8}\n",
            "Різниця: {1, 2, 3}\n",
            "Перетин: {4, 5}\n",
            "Симетрична різниця: {1, 2, 3, 6, 7, 8}\n"
          ]
        }
      ]
    },
    {
      "cell_type": "markdown",
      "source": [
        "# VII. Словники (Dictionary)."
      ],
      "metadata": {
        "id": "kWc8gkzTx7Ea"
      }
    },
    {
      "cell_type": "markdown",
      "source": [
        "20. Створіть пустий словник. До нього додайте чотири пари елементів такі, щоб їхні ключі були різних типів. Чи може список бути ключем? Чому?"
      ],
      "metadata": {
        "id": "i5FLwj-B2ybQ"
      }
    },
    {
      "cell_type": "code",
      "source": [
        "empty_dict = {}\n",
        "\n",
        "empty_dict[42] = \"integer key\"\n",
        "empty_dict[\"apple\"] = \"string key\"\n",
        "empty_dict[3.14] = \"float key\"\n",
        "empty_dict[True] = \"boolean key\"\n",
        "\n",
        "# Спроба використання списку як ключа (викличе помилку)\n",
        "# empty_dict[[1, 2, 3]] = \"list key\"\n",
        "\n",
        "print(empty_dict)\n"
      ],
      "metadata": {
        "id": "hxgv3BzrgLAV",
        "colab": {
          "base_uri": "https://localhost:8080/"
        },
        "outputId": "ccaae71c-690c-4a44-9eb7-3f7669dff04b"
      },
      "execution_count": null,
      "outputs": [
        {
          "output_type": "stream",
          "name": "stdout",
          "text": [
            "{42: 'integer key', 'apple': 'string key', 3.14: 'float key', True: 'boolean key'}\n"
          ]
        }
      ]
    },
    {
      "cell_type": "markdown",
      "source": [
        "Список не може бути ключем у словнику, оскільки ключі повинні бути незмінюваними. Список - це змінюваний тип даних"
      ],
      "metadata": {
        "id": "zwa7UVN-gR3m"
      }
    },
    {
      "cell_type": "markdown",
      "source": [
        "21. Створіть словник, де значенням в одній з пар теж буде словник, який теж має вкладений словник. Виведіть на екран значення, що міститься в словнику, що знаходиться на найнижчому рівні ієрархії вкладеності (найбільш внутрішній)."
      ],
      "metadata": {
        "id": "WM_pMlJsgoNf"
      }
    },
    {
      "cell_type": "code",
      "source": [
        "nested_dict = {\n",
        "    'key1': 'value1',\n",
        "    'key2': {\n",
        "        'key3': 'value3',\n",
        "        'key4': {\n",
        "            'key5': 'value5'\n",
        "        }\n",
        "    }\n",
        "}\n",
        "\n",
        "innermost_value = nested_dict['key2']['key4']['key5']\n",
        "\n",
        "print(innermost_value)\n"
      ],
      "metadata": {
        "id": "60dlP7IHhAy4",
        "colab": {
          "base_uri": "https://localhost:8080/"
        },
        "outputId": "90c828c4-fd8d-416f-94af-31d5ba8a177a"
      },
      "execution_count": null,
      "outputs": [
        {
          "output_type": "stream",
          "name": "stdout",
          "text": [
            "value5\n"
          ]
        }
      ]
    },
    {
      "cell_type": "markdown",
      "source": [
        "# Вітаю! Ви велика(ий) молодець, що впоралась(вся). Похваліть себе та побалуйте чимось приємним. Я Вами пишаюся."
      ],
      "metadata": {
        "id": "xOZP0hkx6cCr"
      }
    }
  ]
}
